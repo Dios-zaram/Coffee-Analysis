{
 "cells": [
  {
   "cell_type": "code",
   "execution_count": 1,
   "id": "1f04d8f9",
   "metadata": {},
   "outputs": [],
   "source": [
    "import pandas as pd\n",
    "import numpy as np\n",
    "import warnings\n",
    "import seaborn as sns\n",
    "import matplotlib.pyplot as plt\n",
    "from math import sqrt"
   ]
  },
  {
   "cell_type": "code",
   "execution_count": 2,
   "id": "80cdd093",
   "metadata": {},
   "outputs": [],
   "source": [
    "#incase of unnecessary errors\n",
    "warnings.filterwarnings(\"ignore\", category=pd.core.common.SettingWithCopyWarning)\n",
    "\n",
    "#Import data\n",
    "coffee_store=pd.DataFrame(pd.read_csv('C:/Program Files/PostgreSQL/15/data/data_copy/coffee_csv1.csv'))"
   ]
  },
  {
   "cell_type": "code",
   "execution_count": 3,
   "id": "22dec4e3",
   "metadata": {},
   "outputs": [
    {
     "data": {
      "text/html": [
       "<div>\n",
       "<style scoped>\n",
       "    .dataframe tbody tr th:only-of-type {\n",
       "        vertical-align: middle;\n",
       "    }\n",
       "\n",
       "    .dataframe tbody tr th {\n",
       "        vertical-align: top;\n",
       "    }\n",
       "\n",
       "    .dataframe thead th {\n",
       "        text-align: right;\n",
       "    }\n",
       "</style>\n",
       "<table border=\"1\" class=\"dataframe\">\n",
       "  <thead>\n",
       "    <tr style=\"text-align: right;\">\n",
       "      <th></th>\n",
       "      <th>region</th>\n",
       "      <th>place_name</th>\n",
       "      <th>place_type</th>\n",
       "      <th>rating</th>\n",
       "      <th>reviews</th>\n",
       "      <th>price</th>\n",
       "      <th>delivery_option</th>\n",
       "      <th>dine_in_option</th>\n",
       "      <th>takeout_option</th>\n",
       "    </tr>\n",
       "  </thead>\n",
       "  <tbody>\n",
       "    <tr>\n",
       "      <th>0</th>\n",
       "      <td>C</td>\n",
       "      <td>Dim Kavu</td>\n",
       "      <td>Others</td>\n",
       "      <td>4.6</td>\n",
       "      <td>206.0</td>\n",
       "      <td>$$</td>\n",
       "      <td>False</td>\n",
       "      <td>NaN</td>\n",
       "      <td>NaN</td>\n",
       "    </tr>\n",
       "    <tr>\n",
       "      <th>1</th>\n",
       "      <td>C</td>\n",
       "      <td>Коферум</td>\n",
       "      <td>Cafe</td>\n",
       "      <td>5.0</td>\n",
       "      <td>24.0</td>\n",
       "      <td>$$</td>\n",
       "      <td>False</td>\n",
       "      <td>NaN</td>\n",
       "      <td>True</td>\n",
       "    </tr>\n",
       "    <tr>\n",
       "      <th>2</th>\n",
       "      <td>C</td>\n",
       "      <td>Кофейня Світ Чаю</td>\n",
       "      <td>Coffee shop</td>\n",
       "      <td>5.0</td>\n",
       "      <td>11.0</td>\n",
       "      <td>$$</td>\n",
       "      <td>False</td>\n",
       "      <td>NaN</td>\n",
       "      <td>True</td>\n",
       "    </tr>\n",
       "    <tr>\n",
       "      <th>3</th>\n",
       "      <td>C</td>\n",
       "      <td>Кофейня Starcoff</td>\n",
       "      <td>Coffee shop</td>\n",
       "      <td>4.4</td>\n",
       "      <td>331.0</td>\n",
       "      <td>$$</td>\n",
       "      <td>False</td>\n",
       "      <td>True</td>\n",
       "      <td>True</td>\n",
       "    </tr>\n",
       "    <tr>\n",
       "      <th>4</th>\n",
       "      <td>C</td>\n",
       "      <td>Кофейня \"Friend Zone\"</td>\n",
       "      <td>Coffee shop</td>\n",
       "      <td>5.0</td>\n",
       "      <td>12.0</td>\n",
       "      <td>$$</td>\n",
       "      <td>False</td>\n",
       "      <td>True</td>\n",
       "      <td>True</td>\n",
       "    </tr>\n",
       "  </tbody>\n",
       "</table>\n",
       "</div>"
      ],
      "text/plain": [
       "  region             place_name   place_type  rating  reviews price  \\\n",
       "0      C               Dim Kavu       Others     4.6    206.0    $$   \n",
       "1      C                Коферум         Cafe     5.0     24.0    $$   \n",
       "2      C       Кофейня Світ Чаю  Coffee shop     5.0     11.0    $$   \n",
       "3      C       Кофейня Starcoff  Coffee shop     4.4    331.0    $$   \n",
       "4      C  Кофейня \"Friend Zone\"  Coffee shop     5.0     12.0    $$   \n",
       "\n",
       "   delivery_option dine_in_option takeout_option  \n",
       "0            False            NaN            NaN  \n",
       "1            False            NaN           True  \n",
       "2            False            NaN           True  \n",
       "3            False           True           True  \n",
       "4            False           True           True  "
      ]
     },
     "execution_count": 3,
     "metadata": {},
     "output_type": "execute_result"
    }
   ],
   "source": [
    "coffee_store.head()"
   ]
  },
  {
   "cell_type": "code",
   "execution_count": 4,
   "id": "65730f01",
   "metadata": {},
   "outputs": [
    {
     "data": {
      "text/html": [
       "<div>\n",
       "<style scoped>\n",
       "    .dataframe tbody tr th:only-of-type {\n",
       "        vertical-align: middle;\n",
       "    }\n",
       "\n",
       "    .dataframe tbody tr th {\n",
       "        vertical-align: top;\n",
       "    }\n",
       "\n",
       "    .dataframe thead th {\n",
       "        text-align: right;\n",
       "    }\n",
       "</style>\n",
       "<table border=\"1\" class=\"dataframe\">\n",
       "  <thead>\n",
       "    <tr style=\"text-align: right;\">\n",
       "      <th></th>\n",
       "      <th>region</th>\n",
       "      <th>place_name</th>\n",
       "      <th>place_type</th>\n",
       "      <th>rating</th>\n",
       "      <th>reviews</th>\n",
       "      <th>price</th>\n",
       "      <th>delivery_option</th>\n",
       "      <th>dine_in_option</th>\n",
       "      <th>takeout_option</th>\n",
       "    </tr>\n",
       "  </thead>\n",
       "  <tbody>\n",
       "    <tr>\n",
       "      <th>195</th>\n",
       "      <td>H</td>\n",
       "      <td>Artist</td>\n",
       "      <td>Others</td>\n",
       "      <td>4.6</td>\n",
       "      <td>963.0</td>\n",
       "      <td>$$$</td>\n",
       "      <td>False</td>\n",
       "      <td>True</td>\n",
       "      <td>True</td>\n",
       "    </tr>\n",
       "    <tr>\n",
       "      <th>196</th>\n",
       "      <td>H</td>\n",
       "      <td>Dream Cafe</td>\n",
       "      <td>Cafe</td>\n",
       "      <td>4.3</td>\n",
       "      <td>646.0</td>\n",
       "      <td>$$</td>\n",
       "      <td>False</td>\n",
       "      <td>True</td>\n",
       "      <td>True</td>\n",
       "    </tr>\n",
       "    <tr>\n",
       "      <th>197</th>\n",
       "      <td>H</td>\n",
       "      <td>РУТА КАФЕ ПП КУЛІЧЕНКО К.І.</td>\n",
       "      <td>Cafe</td>\n",
       "      <td>4.6</td>\n",
       "      <td>16.0</td>\n",
       "      <td>$$</td>\n",
       "      <td>False</td>\n",
       "      <td>True</td>\n",
       "      <td>True</td>\n",
       "    </tr>\n",
       "    <tr>\n",
       "      <th>198</th>\n",
       "      <td>H</td>\n",
       "      <td>Ob'yektna Kava</td>\n",
       "      <td>Coffee shop</td>\n",
       "      <td>4.7</td>\n",
       "      <td>599.0</td>\n",
       "      <td>$$</td>\n",
       "      <td>False</td>\n",
       "      <td>True</td>\n",
       "      <td>True</td>\n",
       "    </tr>\n",
       "    <tr>\n",
       "      <th>199</th>\n",
       "      <td>H</td>\n",
       "      <td>О...МАРАТ КАФЕ ПП ПОЛІСТЕП</td>\n",
       "      <td>Cafe</td>\n",
       "      <td>4.3</td>\n",
       "      <td>341.0</td>\n",
       "      <td>$$</td>\n",
       "      <td>False</td>\n",
       "      <td>True</td>\n",
       "      <td>NaN</td>\n",
       "    </tr>\n",
       "  </tbody>\n",
       "</table>\n",
       "</div>"
      ],
      "text/plain": [
       "    region                   place_name   place_type  rating  reviews price  \\\n",
       "195      H                       Artist       Others     4.6    963.0   $$$   \n",
       "196      H                   Dream Cafe         Cafe     4.3    646.0    $$   \n",
       "197      H  РУТА КАФЕ ПП КУЛІЧЕНКО К.І.         Cafe     4.6     16.0    $$   \n",
       "198      H               Ob'yektna Kava  Coffee shop     4.7    599.0    $$   \n",
       "199      H   О...МАРАТ КАФЕ ПП ПОЛІСТЕП         Cafe     4.3    341.0    $$   \n",
       "\n",
       "     delivery_option dine_in_option takeout_option  \n",
       "195            False           True           True  \n",
       "196            False           True           True  \n",
       "197            False           True           True  \n",
       "198            False           True           True  \n",
       "199            False           True            NaN  "
      ]
     },
     "execution_count": 4,
     "metadata": {},
     "output_type": "execute_result"
    }
   ],
   "source": [
    "coffee_store.tail()"
   ]
  },
  {
   "cell_type": "code",
   "execution_count": 5,
   "id": "99c2f877",
   "metadata": {},
   "outputs": [
    {
     "data": {
      "text/html": [
       "<div>\n",
       "<style scoped>\n",
       "    .dataframe tbody tr th:only-of-type {\n",
       "        vertical-align: middle;\n",
       "    }\n",
       "\n",
       "    .dataframe tbody tr th {\n",
       "        vertical-align: top;\n",
       "    }\n",
       "\n",
       "    .dataframe thead th {\n",
       "        text-align: right;\n",
       "    }\n",
       "</style>\n",
       "<table border=\"1\" class=\"dataframe\">\n",
       "  <thead>\n",
       "    <tr style=\"text-align: right;\">\n",
       "      <th></th>\n",
       "      <th>region</th>\n",
       "      <th>place_name</th>\n",
       "      <th>place_type</th>\n",
       "      <th>rating</th>\n",
       "      <th>reviews</th>\n",
       "      <th>price</th>\n",
       "      <th>delivery_option</th>\n",
       "      <th>dine_in_option</th>\n",
       "      <th>takeout_option</th>\n",
       "    </tr>\n",
       "  </thead>\n",
       "  <tbody>\n",
       "    <tr>\n",
       "      <th>8</th>\n",
       "      <td>C</td>\n",
       "      <td>Кав'ярня My coffee</td>\n",
       "      <td>Coffee shop</td>\n",
       "      <td>4.8</td>\n",
       "      <td>31.0</td>\n",
       "      <td>$$</td>\n",
       "      <td>False</td>\n",
       "      <td>True</td>\n",
       "      <td>True</td>\n",
       "    </tr>\n",
       "    <tr>\n",
       "      <th>34</th>\n",
       "      <td>J</td>\n",
       "      <td>Lviv Handmade Chocolate</td>\n",
       "      <td>Others</td>\n",
       "      <td>4.6</td>\n",
       "      <td>1376.0</td>\n",
       "      <td>$$</td>\n",
       "      <td>False</td>\n",
       "      <td>True</td>\n",
       "      <td>True</td>\n",
       "    </tr>\n",
       "    <tr>\n",
       "      <th>2</th>\n",
       "      <td>C</td>\n",
       "      <td>Кофейня Світ Чаю</td>\n",
       "      <td>Coffee shop</td>\n",
       "      <td>5.0</td>\n",
       "      <td>11.0</td>\n",
       "      <td>$$</td>\n",
       "      <td>False</td>\n",
       "      <td>NaN</td>\n",
       "      <td>True</td>\n",
       "    </tr>\n",
       "    <tr>\n",
       "      <th>45</th>\n",
       "      <td>F</td>\n",
       "      <td>coffee House</td>\n",
       "      <td>Coffee shop</td>\n",
       "      <td>4.7</td>\n",
       "      <td>279.0</td>\n",
       "      <td>$$</td>\n",
       "      <td>False</td>\n",
       "      <td>True</td>\n",
       "      <td>True</td>\n",
       "    </tr>\n",
       "    <tr>\n",
       "      <th>111</th>\n",
       "      <td>E</td>\n",
       "      <td>Saturdays Coffee Цирк</td>\n",
       "      <td>Coffee shop</td>\n",
       "      <td>5.0</td>\n",
       "      <td>24.0</td>\n",
       "      <td>$$</td>\n",
       "      <td>True</td>\n",
       "      <td>True</td>\n",
       "      <td>True</td>\n",
       "    </tr>\n",
       "    <tr>\n",
       "      <th>181</th>\n",
       "      <td>H</td>\n",
       "      <td>Dim Kavy</td>\n",
       "      <td>Others</td>\n",
       "      <td>4.9</td>\n",
       "      <td>39.0</td>\n",
       "      <td>$$</td>\n",
       "      <td>False</td>\n",
       "      <td>NaN</td>\n",
       "      <td>NaN</td>\n",
       "    </tr>\n",
       "    <tr>\n",
       "      <th>43</th>\n",
       "      <td>F</td>\n",
       "      <td>Prostir.coffee Таврик</td>\n",
       "      <td>Coffee shop</td>\n",
       "      <td>5.0</td>\n",
       "      <td>26.0</td>\n",
       "      <td>$$</td>\n",
       "      <td>False</td>\n",
       "      <td>True</td>\n",
       "      <td>NaN</td>\n",
       "    </tr>\n",
       "    <tr>\n",
       "      <th>182</th>\n",
       "      <td>H</td>\n",
       "      <td>Бамбук</td>\n",
       "      <td>Cafe</td>\n",
       "      <td>4.1</td>\n",
       "      <td>189.0</td>\n",
       "      <td>$$</td>\n",
       "      <td>False</td>\n",
       "      <td>True</td>\n",
       "      <td>True</td>\n",
       "    </tr>\n",
       "    <tr>\n",
       "      <th>174</th>\n",
       "      <td>I</td>\n",
       "      <td>Kava U Shafi</td>\n",
       "      <td>Coffee shop</td>\n",
       "      <td>4.6</td>\n",
       "      <td>702.0</td>\n",
       "      <td>$$</td>\n",
       "      <td>False</td>\n",
       "      <td>True</td>\n",
       "      <td>NaN</td>\n",
       "    </tr>\n",
       "    <tr>\n",
       "      <th>189</th>\n",
       "      <td>H</td>\n",
       "      <td>The sisters</td>\n",
       "      <td>Cafe</td>\n",
       "      <td>4.7</td>\n",
       "      <td>155.0</td>\n",
       "      <td>$$</td>\n",
       "      <td>False</td>\n",
       "      <td>True</td>\n",
       "      <td>True</td>\n",
       "    </tr>\n",
       "  </tbody>\n",
       "</table>\n",
       "</div>"
      ],
      "text/plain": [
       "    region               place_name   place_type  rating  reviews price  \\\n",
       "8        C       Кав'ярня My coffee  Coffee shop     4.8     31.0    $$   \n",
       "34       J  Lviv Handmade Chocolate       Others     4.6   1376.0    $$   \n",
       "2        C         Кофейня Світ Чаю  Coffee shop     5.0     11.0    $$   \n",
       "45       F             coffee House  Coffee shop     4.7    279.0    $$   \n",
       "111      E    Saturdays Coffee Цирк  Coffee shop     5.0     24.0    $$   \n",
       "181      H                 Dim Kavy       Others     4.9     39.0    $$   \n",
       "43       F    Prostir.coffee Таврик  Coffee shop     5.0     26.0    $$   \n",
       "182      H                   Бамбук         Cafe     4.1    189.0    $$   \n",
       "174      I             Kava U Shafi  Coffee shop     4.6    702.0    $$   \n",
       "189      H              The sisters         Cafe     4.7    155.0    $$   \n",
       "\n",
       "     delivery_option dine_in_option takeout_option  \n",
       "8              False           True           True  \n",
       "34             False           True           True  \n",
       "2              False            NaN           True  \n",
       "45             False           True           True  \n",
       "111             True           True           True  \n",
       "181            False            NaN            NaN  \n",
       "43             False           True            NaN  \n",
       "182            False           True           True  \n",
       "174            False           True            NaN  \n",
       "189            False           True           True  "
      ]
     },
     "execution_count": 5,
     "metadata": {},
     "output_type": "execute_result"
    }
   ],
   "source": [
    "coffee_store.sample(10)"
   ]
  },
  {
   "cell_type": "code",
   "execution_count": 6,
   "id": "aabd73de",
   "metadata": {
    "scrolled": true
   },
   "outputs": [
    {
     "name": "stdout",
     "output_type": "stream",
     "text": [
      "<class 'pandas.core.frame.DataFrame'>\n",
      "RangeIndex: 200 entries, 0 to 199\n",
      "Data columns (total 9 columns):\n",
      " #   Column           Non-Null Count  Dtype  \n",
      "---  ------           --------------  -----  \n",
      " 0   region           200 non-null    object \n",
      " 1   place_name       200 non-null    object \n",
      " 2   place_type       200 non-null    object \n",
      " 3   rating           198 non-null    float64\n",
      " 4   reviews          198 non-null    float64\n",
      " 5   price            200 non-null    object \n",
      " 6   delivery_option  200 non-null    bool   \n",
      " 7   dine_in_option   140 non-null    object \n",
      " 8   takeout_option   144 non-null    object \n",
      "dtypes: bool(1), float64(2), object(6)\n",
      "memory usage: 12.8+ KB\n"
     ]
    }
   ],
   "source": [
    "coffee_store.info()"
   ]
  },
  {
   "cell_type": "code",
   "execution_count": 7,
   "id": "24397d6a",
   "metadata": {},
   "outputs": [
    {
     "data": {
      "text/html": [
       "<div>\n",
       "<style scoped>\n",
       "    .dataframe tbody tr th:only-of-type {\n",
       "        vertical-align: middle;\n",
       "    }\n",
       "\n",
       "    .dataframe tbody tr th {\n",
       "        vertical-align: top;\n",
       "    }\n",
       "\n",
       "    .dataframe thead th {\n",
       "        text-align: right;\n",
       "    }\n",
       "</style>\n",
       "<table border=\"1\" class=\"dataframe\">\n",
       "  <thead>\n",
       "    <tr style=\"text-align: right;\">\n",
       "      <th></th>\n",
       "      <th>region</th>\n",
       "      <th>place_name</th>\n",
       "      <th>place_type</th>\n",
       "      <th>rating</th>\n",
       "      <th>reviews</th>\n",
       "      <th>price</th>\n",
       "      <th>delivery_option</th>\n",
       "      <th>dine_in_option</th>\n",
       "      <th>takeout_option</th>\n",
       "    </tr>\n",
       "  </thead>\n",
       "  <tbody>\n",
       "    <tr>\n",
       "      <th>count</th>\n",
       "      <td>200</td>\n",
       "      <td>200</td>\n",
       "      <td>200</td>\n",
       "      <td>198.000000</td>\n",
       "      <td>198.000000</td>\n",
       "      <td>200</td>\n",
       "      <td>200</td>\n",
       "      <td>140</td>\n",
       "      <td>144</td>\n",
       "    </tr>\n",
       "    <tr>\n",
       "      <th>unique</th>\n",
       "      <td>10</td>\n",
       "      <td>187</td>\n",
       "      <td>4</td>\n",
       "      <td>NaN</td>\n",
       "      <td>NaN</td>\n",
       "      <td>3</td>\n",
       "      <td>2</td>\n",
       "      <td>1</td>\n",
       "      <td>1</td>\n",
       "    </tr>\n",
       "    <tr>\n",
       "      <th>top</th>\n",
       "      <td>C</td>\n",
       "      <td>Dim Kavy</td>\n",
       "      <td>Coffee shop</td>\n",
       "      <td>NaN</td>\n",
       "      <td>NaN</td>\n",
       "      <td>$$</td>\n",
       "      <td>False</td>\n",
       "      <td>True</td>\n",
       "      <td>True</td>\n",
       "    </tr>\n",
       "    <tr>\n",
       "      <th>freq</th>\n",
       "      <td>20</td>\n",
       "      <td>4</td>\n",
       "      <td>97</td>\n",
       "      <td>NaN</td>\n",
       "      <td>NaN</td>\n",
       "      <td>194</td>\n",
       "      <td>165</td>\n",
       "      <td>140</td>\n",
       "      <td>144</td>\n",
       "    </tr>\n",
       "    <tr>\n",
       "      <th>mean</th>\n",
       "      <td>NaN</td>\n",
       "      <td>NaN</td>\n",
       "      <td>NaN</td>\n",
       "      <td>4.663636</td>\n",
       "      <td>622.494949</td>\n",
       "      <td>NaN</td>\n",
       "      <td>NaN</td>\n",
       "      <td>NaN</td>\n",
       "      <td>NaN</td>\n",
       "    </tr>\n",
       "    <tr>\n",
       "      <th>std</th>\n",
       "      <td>NaN</td>\n",
       "      <td>NaN</td>\n",
       "      <td>NaN</td>\n",
       "      <td>0.221648</td>\n",
       "      <td>1400.898666</td>\n",
       "      <td>NaN</td>\n",
       "      <td>NaN</td>\n",
       "      <td>NaN</td>\n",
       "      <td>NaN</td>\n",
       "    </tr>\n",
       "    <tr>\n",
       "      <th>min</th>\n",
       "      <td>NaN</td>\n",
       "      <td>NaN</td>\n",
       "      <td>NaN</td>\n",
       "      <td>3.900000</td>\n",
       "      <td>3.000000</td>\n",
       "      <td>NaN</td>\n",
       "      <td>NaN</td>\n",
       "      <td>NaN</td>\n",
       "      <td>NaN</td>\n",
       "    </tr>\n",
       "    <tr>\n",
       "      <th>25%</th>\n",
       "      <td>NaN</td>\n",
       "      <td>NaN</td>\n",
       "      <td>NaN</td>\n",
       "      <td>4.600000</td>\n",
       "      <td>47.500000</td>\n",
       "      <td>NaN</td>\n",
       "      <td>NaN</td>\n",
       "      <td>NaN</td>\n",
       "      <td>NaN</td>\n",
       "    </tr>\n",
       "    <tr>\n",
       "      <th>50%</th>\n",
       "      <td>NaN</td>\n",
       "      <td>NaN</td>\n",
       "      <td>NaN</td>\n",
       "      <td>4.700000</td>\n",
       "      <td>271.500000</td>\n",
       "      <td>NaN</td>\n",
       "      <td>NaN</td>\n",
       "      <td>NaN</td>\n",
       "      <td>NaN</td>\n",
       "    </tr>\n",
       "    <tr>\n",
       "      <th>75%</th>\n",
       "      <td>NaN</td>\n",
       "      <td>NaN</td>\n",
       "      <td>NaN</td>\n",
       "      <td>4.800000</td>\n",
       "      <td>786.250000</td>\n",
       "      <td>NaN</td>\n",
       "      <td>NaN</td>\n",
       "      <td>NaN</td>\n",
       "      <td>NaN</td>\n",
       "    </tr>\n",
       "    <tr>\n",
       "      <th>max</th>\n",
       "      <td>NaN</td>\n",
       "      <td>NaN</td>\n",
       "      <td>NaN</td>\n",
       "      <td>5.000000</td>\n",
       "      <td>17937.000000</td>\n",
       "      <td>NaN</td>\n",
       "      <td>NaN</td>\n",
       "      <td>NaN</td>\n",
       "      <td>NaN</td>\n",
       "    </tr>\n",
       "  </tbody>\n",
       "</table>\n",
       "</div>"
      ],
      "text/plain": [
       "       region place_name   place_type      rating       reviews price  \\\n",
       "count     200        200          200  198.000000    198.000000   200   \n",
       "unique     10        187            4         NaN           NaN     3   \n",
       "top         C   Dim Kavy  Coffee shop         NaN           NaN    $$   \n",
       "freq       20          4           97         NaN           NaN   194   \n",
       "mean      NaN        NaN          NaN    4.663636    622.494949   NaN   \n",
       "std       NaN        NaN          NaN    0.221648   1400.898666   NaN   \n",
       "min       NaN        NaN          NaN    3.900000      3.000000   NaN   \n",
       "25%       NaN        NaN          NaN    4.600000     47.500000   NaN   \n",
       "50%       NaN        NaN          NaN    4.700000    271.500000   NaN   \n",
       "75%       NaN        NaN          NaN    4.800000    786.250000   NaN   \n",
       "max       NaN        NaN          NaN    5.000000  17937.000000   NaN   \n",
       "\n",
       "       delivery_option dine_in_option takeout_option  \n",
       "count              200            140            144  \n",
       "unique               2              1              1  \n",
       "top              False           True           True  \n",
       "freq               165            140            144  \n",
       "mean               NaN            NaN            NaN  \n",
       "std                NaN            NaN            NaN  \n",
       "min                NaN            NaN            NaN  \n",
       "25%                NaN            NaN            NaN  \n",
       "50%                NaN            NaN            NaN  \n",
       "75%                NaN            NaN            NaN  \n",
       "max                NaN            NaN            NaN  "
      ]
     },
     "execution_count": 7,
     "metadata": {},
     "output_type": "execute_result"
    }
   ],
   "source": [
    "coffee_store.describe(include='all')"
   ]
  },
  {
   "cell_type": "code",
   "execution_count": 8,
   "id": "93703c43",
   "metadata": {},
   "outputs": [
    {
     "data": {
      "text/plain": [
       "region              0\n",
       "place_name          0\n",
       "place_type          0\n",
       "rating              2\n",
       "reviews             2\n",
       "price               0\n",
       "delivery_option     0\n",
       "dine_in_option     60\n",
       "takeout_option     56\n",
       "dtype: int64"
      ]
     },
     "execution_count": 8,
     "metadata": {},
     "output_type": "execute_result"
    }
   ],
   "source": [
    "#Count null\n",
    "coffee_store.isnull().sum()"
   ]
  },
  {
   "cell_type": "code",
   "execution_count": 9,
   "id": "639878af",
   "metadata": {},
   "outputs": [
    {
     "data": {
      "text/plain": [
       "region              0\n",
       "place_name          0\n",
       "place_type          0\n",
       "rating              2\n",
       "reviews             2\n",
       "price               0\n",
       "delivery_option     0\n",
       "dine_in_option     60\n",
       "takeout_option     56\n",
       "dtype: int64"
      ]
     },
     "execution_count": 9,
     "metadata": {},
     "output_type": "execute_result"
    }
   ],
   "source": [
    "coffee_store.drop_duplicates(inplace=True)\n",
    "coffee_store.isnull().sum()"
   ]
  },
  {
   "cell_type": "code",
   "execution_count": 10,
   "id": "02039271",
   "metadata": {},
   "outputs": [],
   "source": [
    "coffee_store['dine_in_option'].fillna(False, inplace=True)\n",
    "coffee_store['takeout_option'].fillna(False, inplace=True)"
   ]
  },
  {
   "cell_type": "code",
   "execution_count": 11,
   "id": "1a17d02f",
   "metadata": {},
   "outputs": [
    {
     "data": {
      "text/plain": [
       "region             0\n",
       "place_name         0\n",
       "place_type         0\n",
       "rating             0\n",
       "reviews            0\n",
       "price              0\n",
       "delivery_option    0\n",
       "dine_in_option     0\n",
       "takeout_option     0\n",
       "dtype: int64"
      ]
     },
     "execution_count": 11,
     "metadata": {},
     "output_type": "execute_result"
    }
   ],
   "source": [
    "coffee_store.dropna(inplace=True)\n",
    "coffee_store.isnull().sum()"
   ]
  },
  {
   "cell_type": "code",
   "execution_count": 12,
   "id": "cdf5de73",
   "metadata": {},
   "outputs": [
    {
     "name": "stdout",
     "output_type": "stream",
     "text": [
      "<class 'pandas.core.frame.DataFrame'>\n",
      "Int64Index: 198 entries, 0 to 199\n",
      "Data columns (total 9 columns):\n",
      " #   Column           Non-Null Count  Dtype  \n",
      "---  ------           --------------  -----  \n",
      " 0   region           198 non-null    object \n",
      " 1   place_name       198 non-null    object \n",
      " 2   place_type       198 non-null    object \n",
      " 3   rating           198 non-null    float64\n",
      " 4   reviews          198 non-null    int32  \n",
      " 5   price            198 non-null    object \n",
      " 6   delivery_option  198 non-null    bool   \n",
      " 7   dine_in_option   198 non-null    bool   \n",
      " 8   takeout_option   198 non-null    bool   \n",
      "dtypes: bool(3), float64(1), int32(1), object(4)\n",
      "memory usage: 10.6+ KB\n"
     ]
    }
   ],
   "source": [
    "coffee_store['reviews'] = coffee_store['reviews'].astype(int)\n",
    "coffee_store.info()"
   ]
  },
  {
   "cell_type": "markdown",
   "id": "dcbaa202",
   "metadata": {},
   "source": [
    "#                                Rating analysis"
   ]
  },
  {
   "cell_type": "code",
   "execution_count": 13,
   "id": "0ea45ecd",
   "metadata": {},
   "outputs": [
    {
     "name": "stdout",
     "output_type": "stream",
     "text": [
      "place_type  Cafe  Coffee shop  Espresso bar  Others\n",
      "rating                                             \n",
      "3.9            1            0             0       1\n",
      "4.0            2            0             0       0\n",
      "4.1            1            1             0       0\n",
      "4.2            2            0             0       0\n",
      "4.3            3            3             0       0\n",
      "4.4            5            7             0       0\n",
      "4.5            9            8             3       2\n",
      "4.6           10           24             7       6\n",
      "4.7            9           21             2       7\n",
      "4.8            2           11             5       0\n",
      "4.9            6           13             3       3\n",
      "5.0            7            8             0       6\n"
     ]
    }
   ],
   "source": [
    "value = coffee_store.groupby(['rating', 'place_type']).size().unstack(fill_value=0)\n",
    "print(value)"
   ]
  },
  {
   "cell_type": "code",
   "execution_count": 14,
   "id": "679b5283",
   "metadata": {},
   "outputs": [
    {
     "data": {
      "text/plain": [
       "4.663636363636367"
      ]
     },
     "execution_count": 14,
     "metadata": {},
     "output_type": "execute_result"
    }
   ],
   "source": [
    "# Find the average\n",
    "mean_rating = np.mean(coffee_store['rating'])\n",
    "mean_rating"
   ]
  },
  {
   "cell_type": "code",
   "execution_count": 15,
   "id": "d128ac59",
   "metadata": {},
   "outputs": [
    {
     "data": {
      "text/plain": [
       "4.7"
      ]
     },
     "execution_count": 15,
     "metadata": {},
     "output_type": "execute_result"
    }
   ],
   "source": [
    "# Find the median\n",
    "np.median(coffee_store['rating'])"
   ]
  },
  {
   "cell_type": "code",
   "execution_count": 16,
   "id": "3040db0c",
   "metadata": {},
   "outputs": [
    {
     "data": {
      "text/plain": [
       "0    4.6\n",
       "dtype: float64"
      ]
     },
     "execution_count": 16,
     "metadata": {},
     "output_type": "execute_result"
    }
   ],
   "source": [
    "# Find the mode\n",
    "coffee_store['rating'].mode()"
   ]
  },
  {
   "cell_type": "code",
   "execution_count": 17,
   "id": "c322e889",
   "metadata": {},
   "outputs": [
    {
     "data": {
      "text/plain": [
       "0.04912782648823264"
      ]
     },
     "execution_count": 17,
     "metadata": {},
     "output_type": "execute_result"
    }
   ],
   "source": [
    "# Find the variance\n",
    "np.var(coffee_store['rating'], ddof=1)"
   ]
  },
  {
   "cell_type": "code",
   "execution_count": 18,
   "id": "04ed427a",
   "metadata": {},
   "outputs": [
    {
     "data": {
      "text/plain": [
       "0.22164797875963732"
      ]
     },
     "execution_count": 18,
     "metadata": {},
     "output_type": "execute_result"
    }
   ],
   "source": [
    "# Find standard deviation\n",
    "stddev=np.std(coffee_store['rating'], ddof=1)\n",
    "stddev"
   ]
  },
  {
   "cell_type": "code",
   "execution_count": 19,
   "id": "d7a69511",
   "metadata": {},
   "outputs": [
    {
     "data": {
      "text/plain": [
       "14.071247279470288"
      ]
     },
     "execution_count": 19,
     "metadata": {},
     "output_type": "execute_result"
    }
   ],
   "source": [
    "# Find the number of rating\n",
    "sqrt_count=sqrt(len(coffee_store['rating']))\n",
    "sqrt_count"
   ]
  },
  {
   "cell_type": "code",
   "execution_count": 20,
   "id": "eaf1721a",
   "metadata": {},
   "outputs": [
    {
     "data": {
      "text/plain": [
       "0.02"
      ]
     },
     "execution_count": 20,
     "metadata": {},
     "output_type": "execute_result"
    }
   ],
   "source": [
    "# Find the standard error\n",
    "round(stddev/sqrt_count,2)"
   ]
  },
  {
   "cell_type": "code",
   "execution_count": 21,
   "id": "a8b0f639",
   "metadata": {},
   "outputs": [
    {
     "data": {
      "text/plain": [
       "{'confidence_lower': 4.632762765174152, 'confidence_upper': 4.694509962098581}"
      ]
     },
     "execution_count": 21,
     "metadata": {},
     "output_type": "execute_result"
    }
   ],
   "source": [
    "# Find the upper and lower confidence interval\n",
    "confidence_interval = {}\n",
    "confidence_interval['confidence_lower'] = mean_rating-1.96 *stddev/sqrt_count\n",
    "confidence_interval['confidence_upper'] = mean_rating+1.96 *stddev/sqrt_count\n",
    "confidence_interval"
   ]
  },
  {
   "cell_type": "markdown",
   "id": "674cc4ed",
   "metadata": {},
   "source": [
    "     OBSERVATION\n",
    "The mean rating for the dataset is 4.66, and the calculated 95% confidence interval\n",
    "\n",
    "for the mean is approximately [4.6327,4.6945]. This interval suggests that, with \n",
    "\n",
    "95% confidence, the true population mean rating is likely to fall within this \n",
    "range."
   ]
  },
  {
   "cell_type": "markdown",
   "id": "30614ef5",
   "metadata": {},
   "source": [
    "# Frequency"
   ]
  },
  {
   "cell_type": "code",
   "execution_count": 22,
   "id": "d6d80d66",
   "metadata": {},
   "outputs": [
    {
     "name": "stdout",
     "output_type": "stream",
     "text": [
      "place_type       Cafe  Coffee shop  Espresso bar  Others\n",
      "delivery_option                                         \n",
      "False              42           87            17      17\n",
      "True               15            9             3       8\n"
     ]
    }
   ],
   "source": [
    "value = coffee_store.groupby(['delivery_option', 'place_type']).size().unstack(fill_value=0)\n",
    "print(value)"
   ]
  },
  {
   "cell_type": "code",
   "execution_count": 23,
   "id": "6aad5fbf",
   "metadata": {},
   "outputs": [
    {
     "name": "stdout",
     "output_type": "stream",
     "text": [
      "place_type      Cafe  Coffee shop  Espresso bar  Others\n",
      "dine_in_option                                         \n",
      "False             11           21            10      16\n",
      "True              46           75            10       9\n"
     ]
    }
   ],
   "source": [
    "value = coffee_store.groupby(['dine_in_option', 'place_type']).size().unstack(fill_value=0)\n",
    "print(value)"
   ]
  },
  {
   "cell_type": "code",
   "execution_count": 24,
   "id": "cd4f9fef",
   "metadata": {},
   "outputs": [
    {
     "name": "stdout",
     "output_type": "stream",
     "text": [
      "place_type      Cafe  Coffee shop  Espresso bar  Others\n",
      "takeout_option                                         \n",
      "False              9           20             8      17\n",
      "True              48           76            12       8\n"
     ]
    }
   ],
   "source": [
    "value = coffee_store.groupby(['takeout_option', 'place_type']).size().unstack(fill_value=0)\n",
    "print(value)"
   ]
  },
  {
   "cell_type": "markdown",
   "id": "72c3effd",
   "metadata": {},
   "source": [
    "        OBSERVATION\n",
    "1. The data suggests that the \"Coffee shop\" category tends to have a high \n",
    "frequency of  establishments offering both dine-in and take-out options.\n",
    "2. \"Cafe\" shows a higher frequency in offering delivery.\n",
    "3. The \"Others\" category seems to have varied offerings in terms of delivery, \n",
    "dine-in, and take-out.\n"
   ]
  },
  {
   "cell_type": "markdown",
   "id": "a1a8986c",
   "metadata": {},
   "source": [
    "# Review Central Tendency"
   ]
  },
  {
   "cell_type": "code",
   "execution_count": 25,
   "id": "782e45dc",
   "metadata": {},
   "outputs": [
    {
     "name": "stdout",
     "output_type": "stream",
     "text": [
      "       reviews        rating     \n",
      "           min    max    min  max\n",
      "region                           \n",
      "A           10   2700    4.5  5.0\n",
      "B           11   1656    4.2  5.0\n",
      "C           10    806    4.2  5.0\n",
      "D           33   1509    4.0  5.0\n",
      "E           10  17937    4.3  5.0\n",
      "F           15   1345    4.4  5.0\n",
      "G           21   2319    4.6  5.0\n",
      "H            9   2381    3.9  5.0\n",
      "I            3   2914    3.9  4.8\n",
      "J           12   1785    4.1  5.0\n"
     ]
    }
   ],
   "source": [
    "value = coffee_store.groupby(['region'])[['reviews','rating']].agg([min,max])\n",
    "\n",
    "print(value)"
   ]
  },
  {
   "cell_type": "markdown",
   "id": "d1374fa5",
   "metadata": {},
   "source": [
    "     OBSERVATIONS \n",
    "\n",
    "1. The region with the highest maximum reviews is E, achieving a perfect rating\n",
    "of 5. In contrast, region C has the lowest maximum reviews (806), but it also \n",
    "maintains a perfect rating of 5. Notably, region I is the only one with a maximum\n",
    "rating lower than 5.\n",
    "\n",
    "2. Recognizing the challenge of distinguishing between good and bad reviews, \n",
    "less emphasis is placed on reviews in the analysis.\n",
    "\n",
    "3. Across regions, there is a consistent trend of a maximum rating of 5. To \n",
    "capture subtle variations, the minimum rating for each region is considered, as \n",
    "it offers greater accuracy.\n",
    "\n",
    "4. Region G stands out with the highest minimum rating of 4.6, while both \n",
    "regions I and H share the lowest minimum rating.\n"
   ]
  }
 ],
 "metadata": {
  "kernelspec": {
   "display_name": "Python 3 (ipykernel)",
   "language": "python",
   "name": "python3"
  },
  "language_info": {
   "codemirror_mode": {
    "name": "ipython",
    "version": 3
   },
   "file_extension": ".py",
   "mimetype": "text/x-python",
   "name": "python",
   "nbconvert_exporter": "python",
   "pygments_lexer": "ipython3",
   "version": "3.9.7"
  }
 },
 "nbformat": 4,
 "nbformat_minor": 5
}
